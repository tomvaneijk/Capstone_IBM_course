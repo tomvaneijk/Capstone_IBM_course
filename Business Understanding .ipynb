{
 "cells": [
  {
   "cell_type": "markdown",
   "metadata": {},
   "source": [
    "<div style=\"font-size: 30px\">\n",
    "Business Understanding"
   ]
  },
  {
   "cell_type": "markdown",
   "metadata": {},
   "source": [
    "- In this project we will try to find optimal insight for the Dutch government into traffic accidents per region. Specifically, this report will be targeted what kind of accidents happen in which region. The government wants to warn people through advertisement. \n",
    "- Since there are lots of regions in the Netherlands we will try to detect the locations where most fatal accidents happen. We are also particularly interested in areas with lower traffic accident rates to save advertisement costs on. \n",
    "- We will use our data science powers to generate the most dangerous areas on this criteria. Advantages of investing in advertisement in an area will then be clearly expressed so that best possible final location can be chosen by the government."
   ]
  }
 ],
 "metadata": {
  "kernelspec": {
   "display_name": "Python 3",
   "language": "python",
   "name": "python3"
  },
  "language_info": {
   "codemirror_mode": {
    "name": "ipython",
    "version": 3
   },
   "file_extension": ".py",
   "mimetype": "text/x-python",
   "name": "python",
   "nbconvert_exporter": "python",
   "pygments_lexer": "ipython3",
   "version": "3.8.3"
  }
 },
 "nbformat": 4,
 "nbformat_minor": 4
}
