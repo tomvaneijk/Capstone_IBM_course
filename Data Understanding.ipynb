{
 "cells": [
  {
   "cell_type": "markdown",
   "metadata": {},
   "source": [
    "<div style=\"font-size: 30px\">\n",
    "Data Understanding"
   ]
  },
  {
   "cell_type": "markdown",
   "metadata": {},
   "source": [
    "As we need to explore, segment, and cluster the regions of the Netherlands. The coordinates of accidents and the kind of accidents are key in this project. I retrieved a data set of traffic accidents that happened in 2004. This data set contains information about:\n",
    "\n",
    "- Coordinates of accidents\n",
    "<p>\n",
    "- Accidents IDs\n",
    "<p>    \n",
    "- Kind of accidents\n",
    "<p>   \n",
    "- Cause of accidents\n",
    "\n",
    "Following data sources will be used to get the required information:\n",
    "* centers of areas will be generated algorithmically and approximate addresses of centers of those areas will be obtained using **Google Maps API reverse geocoding**\n",
    "* number of accidents and their type and location in every neighborhood will be obtained using **Foursquare API**\n",
    "* coordinates of regions will be obtained using **Google Maps API geocoding**"
   ]
  }
 ],
 "metadata": {
  "kernelspec": {
   "display_name": "Python 3",
   "language": "python",
   "name": "python3"
  },
  "language_info": {
   "codemirror_mode": {
    "name": "ipython",
    "version": 3
   },
   "file_extension": ".py",
   "mimetype": "text/x-python",
   "name": "python",
   "nbconvert_exporter": "python",
   "pygments_lexer": "ipython3",
   "version": "3.8.3"
  }
 },
 "nbformat": 4,
 "nbformat_minor": 4
}
